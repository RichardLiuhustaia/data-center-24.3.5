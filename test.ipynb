{
 "cells": [
  {
   "cell_type": "code",
   "execution_count": 1,
   "metadata": {},
   "outputs": [
    {
     "name": "stdout",
     "output_type": "stream",
     "text": [
      "24\n",
      "Set parameter Username\n",
      "Academic license - for non-commercial use only - expires 2024-06-24\n",
      "Gurobi Optimizer version 10.0.2 build v10.0.2rc0 (win64)\n",
      "\n",
      "CPU model: 13th Gen Intel(R) Core(TM) i7-13700H, instruction set [SSE2|AVX|AVX2]\n",
      "Thread count: 14 physical cores, 20 logical processors, using up to 20 threads\n",
      "\n",
      "Optimize a model with 293 rows, 219 columns and 1247 nonzeros\n",
      "Model fingerprint: 0x9bdb4186\n",
      "Model has 1 quadratic objective term\n",
      "Variable types: 146 continuous, 73 integer (1 binary)\n",
      "Coefficient statistics:\n",
      "  Matrix range     [9e-05, 1e+05]\n",
      "  Objective range  [1e-01, 8e+03]\n",
      "  QObjective range [5e+02, 5e+02]\n",
      "  Bounds range     [1e+00, 4e+04]\n",
      "  RHS range        [1e+01, 1e+05]\n",
      "Found heuristic solution: objective 743456.95158\n",
      "Presolve removed 213 rows and 156 columns\n",
      "Presolve time: 0.00s\n",
      "Presolved: 80 rows, 63 columns, 644 nonzeros\n",
      "Found heuristic solution: objective 1469005.0927\n",
      "Variable types: 32 continuous, 31 integer (0 binary)\n",
      "Found heuristic solution: objective 1640070.6237\n",
      "\n",
      "Root relaxation: objective 1.728594e+06, 23 iterations, 0.00 seconds (0.00 work units)\n",
      "\n",
      "    Nodes    |    Current Node    |     Objective Bounds      |     Work\n",
      " Expl Unexpl |  Obj  Depth IntInf | Incumbent    BestBd   Gap | It/Node Time\n",
      "\n",
      "*    0     0               0    1728593.9047 1728593.90  0.00%     -    0s\n",
      "\n",
      "Explored 1 nodes (23 simplex iterations) in 0.01 seconds (0.00 work units)\n",
      "Thread count was 20 (of 20 available processors)\n",
      "\n",
      "Solution count 4: 1.72859e+06 1.64007e+06 1.46901e+06 743457 \n",
      "\n",
      "Optimal solution found (tolerance 1.00e-04)\n",
      "Best objective 1.728593904678e+06, best bound 1.728593904678e+06, gap 0.0000%\n"
     ]
    }
   ],
   "source": [
    "import numpy as np\n",
    "import gurobipy as gp\n",
    "from gurobipy import GRB\n",
    "from parameters import *\n",
    "import matplotlib.pyplot as plt\n",
    "\n",
    "TD=4\n",
    "model1=gp.Model('solution_with_reg')\n",
    "#variable declaration\n",
    "A_BW_t=model1.addVars(24,lb=0,ub=A_max,vtype=GRB.INTEGER,name='A_BW_t')\n",
    "A_IW_t=model1.addVars(24,lb=0,ub=A_max,vtype=GRB.INTEGER,name='A_IW_t')\n",
    "A_R_t=model1.addVars(24,lb=0,ub=A_max,vtype=GRB.INTEGER,name='A_R_t')\n",
    "L_BW_t=model1.addVars(24,lb=0,ub=GRB.INFINITY,vtype=GRB.CONTINUOUS,name='L_BW_t')\n",
    "L_IW_t=model1.addVars(24,lb=0,ub=GRB.INFINITY,vtype=GRB.CONTINUOUS,name='L_IW_t')\n",
    "P_res_t=model1.addVars(24,lb=0,ub=GRB.INFINITY,vtype=GRB.CONTINUOUS,name='P_res_t')\n",
    "P_grid_t=model1.addVars(24,lb=-GRB.INFINITY,ub=GRB.INFINITY,vtype=GRB.CONTINUOUS,name='P_grid_t')\n",
    "W_res=model1.addVar(lb=0,ub=GRB.INFINITY,vtype=GRB.CONTINUOUS,name='W_res')\n",
    "delta_W_res=model1.addVar(lb=-GRB.INFINITY,ub=GRB.INFINITY,vtype=GRB.CONTINUOUS,name='delta_W_res')\n",
    "#variables about reserve market and regulation support\n",
    "P_r_t=model1.addVars(24,lb=0,ub=50,vtype=GRB.CONTINUOUS,name='P_r_t')\n",
    "P_reg_t=model1.addVars(24,lb=0,ub=50,vtype=GRB.CONTINUOUS,name='P_reg_t')\n",
    "#P_d_t=model1.addVars(24,lb=0,ub=GRB.INFINITY,vtype=GRB.CONTINUOUS,name='P_d_t')\n",
    "#constraints\n",
    "#power balance constraint:DC's power supply comes from utility grid and PV generation\n",
    "model1.addConstrs(1/1000*(P_idle+0.75*P_peak)*(A_BW_t[i]+A_IW_t[i]+A_R_t[i])+1/1000*(L_BW_t[i]+L_IW_t[i])*(P_peak-P_idle)/L_rate+alpha[i]*P_r_t[i]+beta[i]*P_reg_t[i]\n",
    "                 ==P_grid_t[i]+P_res_t[i] for i in range(T))\n",
    "#QoS constraint of interactive loads\n",
    "model1.addConstrs(A_IW_t[i]>=L_IW_t[i]/(L_rate-1/C_DT) for i in range(T))\n",
    "#interactive loads must be immediately satisfied\n",
    "model1.addConstrs(L_IW_t[i]>=predicted_IWs[i] for i in range(T))\n",
    "#enough processing resource for batch loads\n",
    "model1.addConstrs(L_rate*A_BW_t[i]>=L_BW_t[i] for i in range(T))\n",
    "#batch loads constraints\n",
    "for j in range(T):\n",
    "    model1.addConstr(gp.quicksum(L_BW_t[i] for i in range(0,j))<=gp.quicksum(predicted_BWs[i] for i in range(0,j)))\n",
    "#assume TD=4,further modification allowed\n",
    "for j in range(T-TD):\n",
    "    model1.addConstr(gp.quicksum(L_BW_t[i] for i in range(0,j+TD))>=gp.quicksum(predicted_BWs[i] for i in range(0,j)))\n",
    "for j in range(T-TD,T):\n",
    "    model1.addConstr(gp.quicksum(L_BW_t[i] for i in range(0,T))>=gp.quicksum(predicted_BWs[i] for i in range(0,j)))\n",
    "\n",
    "model1.addConstrs(A_R_t[i]<=redundant_ratio*A_max for i in range(T))\n",
    "model1.addConstrs(A_IW_t[i]+A_BW_t[i]+1/redundant_ratio*A_R_t[i]>=A_max for i in range(T))\n",
    "model1.addConstrs(A_IW_t[i]+A_BW_t[i]+A_R_t[i]<=A_max for i in range(T))\n",
    "#green certificate related constraints\n",
    "model1.addConstrs(P_res_t[i]<=P_res_max[i] for i in range(T))\n",
    "model1.addConstrs(P_grid_t[i]<=P_grid_max for i in range(T))\n",
    "model1.addConstrs(P_grid_t[i]>=-P_grid_max for i in range(T))\n",
    "model1.addConstr(gp.quicksum(P_res_t[i] for i in range(T))==W_res)\n",
    "model1.addConstr(W_res<=W_res_max)\n",
    "model1.addConstr(delta_W_res==W_res_fix-W_res)\n",
    "#auxiliary variable z\n",
    "z=model1.addVar(vtype=GRB.BINARY,name='z')\n",
    "M=1e5\n",
    "model1.addConstr(delta_W_res<=delta_W_res_fix+M*z)\n",
    "model1.addConstr(delta_W_res>=delta_W_res_fix-M*(1-z))\n",
    "\n",
    "model1.setObjective(gp.quicksum(L_BW_t[i]*C_BW+L_IW_t[i]*C_IW for i in range(T))\n",
    "                   +gp.quicksum(reserve_price[i]*P_r_t[i]+electricity_price[i]*P_r_t[i]*alpha[i] for i in range(T))\n",
    "                   +gp.quicksum(reg_cap_price[i]*s_reg*P_reg_t[i]+reg_mil_price[i]*s_reg*R_mil*P_reg_t[i] for i in range(T))\n",
    "                   -gp.quicksum(P_grid_t[i]*electricity_price[i] for i in range(T))\n",
    "                   -C_GC*delta_W_res-C_punish*(delta_W_res-delta_W_res_fix)*z,GRB.MAXIMIZE)\n",
    "model1.optimize()\n",
    "\n",
    "P_r_t_res=np.array([P_r_t[i].X for i in range(T)])\n",
    "P_reg_t_res=np.array([P_reg_t[i].X for i in range(T)])\n",
    "\n",
    "\n",
    "A_BW_t_res=np.array([A_BW_t[i].X for i in range(T)])\n",
    "A_IW_t_res=np.array([A_IW_t[i].X for i in range(T)])\n",
    "A_R_t_res=np.array([A_R_t[i].X for i in range(T)])\n",
    "L_BW_t_res=np.array([L_BW_t[i].X for i in range(T)])\n",
    "L_IW_t_res=np.array([L_IW_t[i].X for i in range(T)])\n",
    "P_res_t_res=np.array([P_res_t[i].X for i in range(T)])\n",
    "P_grid_t_res=np.array([P_grid_t[i].X for i in range(T)])"
   ]
  },
  {
   "cell_type": "code",
   "execution_count": 5,
   "metadata": {},
   "outputs": [],
   "source": [
    "temp1,temp2=[],[]\n",
    "for j in range(0,T-TD):\n",
    "    temp1.append(sum(L_BW_t_res[i] for i in range(0,j+TD)))\n",
    "    temp2.append(sum(predicted_BWs[i] for i in range(0,j)))"
   ]
  },
  {
   "cell_type": "code",
   "execution_count": 7,
   "metadata": {},
   "outputs": [
    {
     "name": "stdout",
     "output_type": "stream",
     "text": [
      "[11000. 15400. 19100. 15400. 24200. 25300. 25600. 25300. 24200. 23100.\n",
      " 22800. 23100. 17400. 11700.  6000.     0.  6800.     0.     0. 15400.]\n"
     ]
    }
   ],
   "source": [
    "print(np.array(temp1)-np.array(temp2))"
   ]
  }
 ],
 "metadata": {
  "kernelspec": {
   "display_name": "Python 3",
   "language": "python",
   "name": "python3"
  },
  "language_info": {
   "codemirror_mode": {
    "name": "ipython",
    "version": 3
   },
   "file_extension": ".py",
   "mimetype": "text/x-python",
   "name": "python",
   "nbconvert_exporter": "python",
   "pygments_lexer": "ipython3",
   "version": "3.11.4"
  }
 },
 "nbformat": 4,
 "nbformat_minor": 2
}
